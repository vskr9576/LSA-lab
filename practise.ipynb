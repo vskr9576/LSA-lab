{
 "metadata": {
  "name": "",
  "signature": "sha256:6b0dfda23eac57f1cb15494fc5f27d7f887fc3d0ff63ee63094a85588d75549a"
 },
 "nbformat": 3,
 "nbformat_minor": 0,
 "worksheets": [
  {
   "cells": [
    {
     "cell_type": "code",
     "collapsed": false,
     "input": [
      "import sys\n",
      "print (sys.version)"
     ],
     "language": "python",
     "metadata": {},
     "outputs": [
      {
       "output_type": "stream",
       "stream": "stdout",
       "text": [
        "2.7.8 |Anaconda 2.1.0 (64-bit)| (default, Jul  2 2014, 15:12:11) [MSC v.1500 64 bit (AMD64)]\n"
       ]
      }
     ],
     "prompt_number": 1
    },
    {
     "cell_type": "code",
     "collapsed": false,
     "input": [
      "from sklearn.datasets import fetch_20newsgroups\n",
      "categories = ['rec.sport.baseball']\n",
      "dataset = fetch_20newsgroups(subset='all',shuffle=True, random_state=42, categories=categories)"
     ],
     "language": "python",
     "metadata": {},
     "outputs": [],
     "prompt_number": 5
    },
    {
     "cell_type": "code",
     "collapsed": false,
     "input": [
      "from sklearn.datasets import fetch_20newsgroups\n",
      "import nltk\n",
      "from nltk.corpus import stopwords\n",
      "from sklearn.feature_extraction.text import TfidfVectorizer\n",
      "from sklearn.decomposition import TruncatedSVD"
     ],
     "language": "python",
     "metadata": {},
     "outputs": [],
     "prompt_number": 3
    },
    {
     "cell_type": "code",
     "collapsed": false,
     "input": [
      "from sklearn.datasets import fetch_20newsgroups"
     ],
     "language": "python",
     "metadata": {},
     "outputs": [],
     "prompt_number": 4
    },
    {
     "cell_type": "code",
     "collapsed": false,
     "input": [
      "import nltk\n",
      "from nltk.corpus import stopwords\n",
      "from sklearn.feature_extraction.text import TfidfVectorizer\n",
      "from sklearn.decomposition import TruncatedSVD"
     ],
     "language": "python",
     "metadata": {},
     "outputs": [],
     "prompt_number": 6
    },
    {
     "cell_type": "code",
     "collapsed": false,
     "input": [
      "stopset = set(stopwords.words('english'))\n",
      "stopset.update(['lt','p','/p','br','amp','quot','field','font','normal','span','0gx','rgb','style','51','spacing','text','helvetica','size','family','space','arial','height','lindent','letter','line','none','sans','serif','transform','line','variant','weight','times','strong','new','video','title','white','word','letter','roman','Opt','16','color','12','14','21','neve','apple','class',])"
     ],
     "language": "python",
     "metadata": {},
     "outputs": [],
     "prompt_number": 7
    },
    {
     "cell_type": "code",
     "collapsed": false,
     "input": [
      "corpus[0]"
     ],
     "language": "python",
     "metadata": {},
     "outputs": [
      {
       "metadata": {},
       "output_type": "pyout",
       "prompt_number": 8,
       "text": [
        "u\"From: writingctr@leo.bsuvc.bsu.edu\\nSubject: Re: CUB fever.\\nOrganization: Ball State University, Muncie, In - Univ. Computing Svc's\\nLines: 21\\n\\n\\nIn article <kingoz.735285670@camelot>, kingoz@camelot.bradley.edu (Orin Roth) writes:\\n> \\n>    CUB fever is hitting me again. I'm beginning to think they have a \\n>    chance this year. (what the heck am i thinking?)\\n>    Sorry. Just a moment of incompetence.\\n>    I'll be ok. Really. \\n>    Orin.\\n>    Bradley U.\\n> \\n> --\\n> I'm really a jester in disguise!                                   \\nI hear ya!  Then again, we must remember that we are indeed Cub fans, and\\nthat the Cubs will eventually blow it.  After all, the Cubs are the easiest\\nteam in the National League to root for.  No Pressure.  You know they will\\nlose eventually.  Oh well, I suppose we must have faith.  After all, they\\ndo look pretty good, and they don't even have Sandberg back yet.  \\n\\nCUBS IN '93!!!!!\\n\\nCHA\\n\""
       ]
      }
     ],
     "prompt_number": 8
    },
    {
     "cell_type": "code",
     "collapsed": false,
     "input": [
      "vectorizer = TfidfVectorizer(stop_words=stopset,use_idf=True,ngram_range=(1,3))\n",
      "X=vectorizer.fit_transform(corpus)"
     ],
     "language": "python",
     "metadata": {},
     "outputs": [],
     "prompt_number": 9
    },
    {
     "cell_type": "code",
     "collapsed": false,
     "input": [
      "X[0]"
     ],
     "language": "python",
     "metadata": {},
     "outputs": [
      {
       "metadata": {},
       "output_type": "pyout",
       "prompt_number": 10,
       "text": [
        "<1x190051 sparse matrix of type '<type 'numpy.float64'>'\n",
        "\twith 235 stored elements in Compressed Sparse Row format>"
       ]
      }
     ],
     "prompt_number": 10
    },
    {
     "cell_type": "code",
     "collapsed": false,
     "input": [
      "print X[0]"
     ],
     "language": "python",
     "metadata": {},
     "outputs": [
      {
       "output_type": "stream",
       "stream": "stdout",
       "text": [
        "  (0, 51475)\t0.0734463096625\n",
        "  (0, 189323)\t0.0734463096625\n",
        "  (0, 28954)\t0.0734463096625\n",
        "  (0, 146580)\t0.0734463096625\n",
        "  (0, 64428)\t0.0734463096625\n",
        "  (0, 77938)\t0.0734463096625\n",
        "  (0, 133180)\t0.0734463096625\n",
        "  (0, 103446)\t0.0734463096625\n",
        "  (0, 66814)\t0.0734463096625\n",
        "  (0, 114541)\t0.0734463096625\n",
        "  (0, 163286)\t0.0734463096625\n",
        "  (0, 181094)\t0.0734463096625\n",
        "  (0, 119646)\t0.0734463096625\n",
        "  (0, 64564)\t0.0734463096625\n",
        "  (0, 103940)\t0.0734463096625\n",
        "  (0, 95553)\t0.0734463096625\n",
        "  (0, 133095)\t0.0734463096625\n",
        "  (0, 143744)\t0.0734463096625\n",
        "  (0, 98147)\t0.0734463096625\n",
        "  (0, 115182)\t0.0734463096625\n",
        "  (0, 165645)\t0.0734463096625\n",
        "  (0, 59684)\t0.0734463096625\n",
        "  (0, 51515)\t0.0734463096625\n",
        "  (0, 35722)\t0.0734463096625\n",
        "  (0, 64554)\t0.0734463096625\n",
        "  :\t:\n",
        "  (0, 143978)\t0.0551931192048\n",
        "  (0, 122313)\t0.11038623841\n",
        "  (0, 37511)\t0.0989842910659\n",
        "  (0, 40681)\t0.104524831508\n",
        "  (0, 16529)\t0.0734463096625\n",
        "  (0, 94964)\t0.11038623841\n",
        "  (0, 25779)\t0.0160794683389\n",
        "  (0, 100827)\t0.010248916482\n",
        "  (0, 163875)\t0.0606840380211\n",
        "  (0, 48159)\t0.0387972930629\n",
        "  (0, 175248)\t0.0391426583255\n",
        "  (0, 114339)\t0.0606840380211\n",
        "  (0, 175284)\t0.0179368326547\n",
        "  (0, 159048)\t0.0372269139097\n",
        "  (0, 29476)\t0.0306118463788\n",
        "  (0, 121700)\t0.0102695385529\n",
        "  (0, 68355)\t0.124508834349\n",
        "  (0, 51397)\t0.160868220155\n",
        "  (0, 137215)\t0.0126673855948\n",
        "  (0, 161848)\t0.0101872995629\n",
        "  (0, 60184)\t0.023728059338\n",
        "  (0, 38751)\t0.0505117257066\n",
        "  (0, 38761)\t0.0505117257066\n",
        "  (0, 99173)\t0.0494921455329\n",
        "  (0, 186822)\t0.0734463096625\n"
       ]
      }
     ],
     "prompt_number": 11
    },
    {
     "cell_type": "code",
     "collapsed": false,
     "input": [
      "X.shape"
     ],
     "language": "python",
     "metadata": {},
     "outputs": [
      {
       "metadata": {},
       "output_type": "pyout",
       "prompt_number": 12,
       "text": [
        "(994, 190051)"
       ]
      }
     ],
     "prompt_number": 12
    },
    {
     "cell_type": "code",
     "collapsed": false,
     "input": [
      "lsa=TruncatedSVD(n_components=27,n_iter=100)\n",
      "lsa.fit(X)"
     ],
     "language": "python",
     "metadata": {},
     "outputs": [
      {
       "metadata": {},
       "output_type": "pyout",
       "prompt_number": 13,
       "text": [
        "TruncatedSVD(algorithm='randomized', n_components=27, n_iter=100,\n",
        "       random_state=None, tol=0.0)"
       ]
      }
     ],
     "prompt_number": 13
    },
    {
     "cell_type": "code",
     "collapsed": false,
     "input": [
      "lsa.components_[0]"
     ],
     "language": "python",
     "metadata": {},
     "outputs": [
      {
       "metadata": {},
       "output_type": "pyout",
       "prompt_number": 14,
       "text": [
        "array([ 0.01597904,  0.00498283,  0.00080901, ...,  0.00102609,\n",
        "        0.00102609,  0.00102609])"
       ]
      }
     ],
     "prompt_number": 14
    },
    {
     "cell_type": "code",
     "collapsed": false,
     "input": [
      "vectorizer = TfidfVectorizer(stop_words=stopset,use_idf=True,ngram_range=(1,3))\n",
      "X=vectorizer.fit_transform(corpus)\n",
      "X[0]\n",
      "print X[0]\n",
      "lsa=TruncatedSVD(n_components=27,n_iter=100)\n",
      "lsa.fit(X)\n",
      "lsa.components_[0]\n",
      "terms=vectorizer.get_feature_names()\n",
      "for i, comp in enumerate (lsa.components_):\n",
      "    termsInComp=zip(terms,comp)\n",
      "    sortedTerms=sorted(termsInComp,key=lambda X:X[1],reverse = True)[:10]\n",
      "    print \"Concept %d:\"%i\n",
      "    for term in sortedTerms:\n",
      "        print term[0]\n",
      "        print\"\""
     ],
     "language": "python",
     "metadata": {},
     "outputs": [
      {
       "output_type": "stream",
       "stream": "stdout",
       "text": [
        "  (0, 51475)\t0.0734463096625\n",
        "  (0, 189323)\t0.0734463096625\n",
        "  (0, 28954)\t0.0734463096625\n",
        "  (0, 146580)\t0.0734463096625\n",
        "  (0, 64428)\t0.0734463096625\n",
        "  (0, 77938)\t0.0734463096625\n",
        "  (0, 133180)\t0.0734463096625\n",
        "  (0, 103446)\t0.0734463096625\n",
        "  (0, 66814)\t0.0734463096625\n",
        "  (0, 114541)\t0.0734463096625\n",
        "  (0, 163286)\t0.0734463096625\n",
        "  (0, 181094)\t0.0734463096625\n",
        "  (0, 119646)\t0.0734463096625\n",
        "  (0, 64564)\t0.0734463096625\n",
        "  (0, 103940)\t0.0734463096625\n",
        "  (0, 95553)\t0.0734463096625\n",
        "  (0, 133095)\t0.0734463096625\n",
        "  (0, 143744)\t0.0734463096625\n",
        "  (0, 98147)\t0.0734463096625\n",
        "  (0, 115182)\t0.0734463096625\n",
        "  (0, 165645)\t0.0734463096625\n",
        "  (0, 59684)\t0.0734463096625\n",
        "  (0, 51515)\t0.0734463096625\n",
        "  (0, 35722)\t0.0734463096625\n",
        "  (0, 64554)\t0.0734463096625\n",
        "  :\t:\n",
        "  (0, 143978)\t0.0551931192048\n",
        "  (0, 122313)\t0.11038623841\n",
        "  (0, 37511)\t0.0989842910659\n",
        "  (0, 40681)\t0.104524831508\n",
        "  (0, 16529)\t0.0734463096625\n",
        "  (0, 94964)\t0.11038623841\n",
        "  (0, 25779)\t0.0160794683389\n",
        "  (0, 100827)\t0.010248916482\n",
        "  (0, 163875)\t0.0606840380211\n",
        "  (0, 48159)\t0.0387972930629\n",
        "  (0, 175248)\t0.0391426583255\n",
        "  (0, 114339)\t0.0606840380211\n",
        "  (0, 175284)\t0.0179368326547\n",
        "  (0, 159048)\t0.0372269139097\n",
        "  (0, 29476)\t0.0306118463788\n",
        "  (0, 121700)\t0.0102695385529\n",
        "  (0, 68355)\t0.124508834349\n",
        "  (0, 51397)\t0.160868220155\n",
        "  (0, 137215)\t0.0126673855948\n",
        "  (0, 161848)\t0.0101872995629\n",
        "  (0, 60184)\t0.023728059338\n",
        "  (0, 38751)\t0.0505117257066\n",
        "  (0, 38761)\t0.0505117257066\n",
        "  (0, 99173)\t0.0494921455329\n",
        "  (0, 186822)\t0.0734463096625\n",
        "Concept 0:"
       ]
      },
      {
       "output_type": "stream",
       "stream": "stdout",
       "text": [
        "\n",
        "edu\n",
        "\n",
        "com\n",
        "\n",
        "year\n",
        "\n",
        "writes\n",
        "\n",
        "team\n",
        "\n",
        "would\n",
        "\n",
        "game\n",
        "\n",
        "article\n",
        "\n",
        "re\n",
        "\n",
        "cs\n",
        "\n",
        "Concept 1:"
       ]
      },
      {
       "output_type": "stream",
       "stream": "stdout",
       "text": [
        "\n",
        "baseball\n",
        "\n",
        "team\n",
        "\n",
        "time\n",
        "\n",
        "play\n",
        "\n",
        "posting\n",
        "\n",
        "com\n",
        "\n",
        "first\n",
        "\n",
        "player\n",
        "\n",
        "ibm\n",
        "\n",
        "may\n",
        "\n",
        "Concept 2:"
       ]
      },
      {
       "output_type": "stream",
       "stream": "stdout",
       "text": [
        "\n",
        "edu\n",
        "\n",
        "re\n",
        "\n",
        "could\n",
        "\n",
        "first\n",
        "\n",
        "posting\n",
        "\n",
        "good\n",
        "\n",
        "like\n",
        "\n",
        "games\n",
        "\n",
        "get\n",
        "\n",
        "league\n",
        "\n",
        "Concept 3:"
       ]
      },
      {
       "output_type": "stream",
       "stream": "stdout",
       "text": [
        "\n",
        "subject re\n",
        "\n",
        "edu\n",
        "\n",
        "university\n",
        "\n",
        "last\n",
        "\n",
        "games\n",
        "\n",
        "00 00 american\n",
        "\n",
        "nntp posting host\n",
        "\n",
        "posting host\n",
        "\n",
        "writes article\n",
        "\n",
        "00 00 colorado\n",
        "\n",
        "Concept 4:"
       ]
      },
      {
       "output_type": "stream",
       "stream": "stdout",
       "text": [
        "\n",
        "game\n",
        "\n",
        "first\n",
        "\n",
        "baseball\n",
        "\n",
        "00\n",
        "\n",
        "really\n",
        "\n",
        "organization\n",
        "\n",
        "posting\n",
        "\n",
        "lines\n",
        "\n",
        "com\n",
        "\n",
        "00 00 gmt\n",
        "\n",
        "Concept 5:"
       ]
      },
      {
       "output_type": "stream",
       "stream": "stdout",
       "text": [
        "\n",
        "00\n",
        "\n",
        "00 00\n",
        "\n",
        "00 00 00\n",
        "\n",
        "cs\n",
        "\n",
        "10\n",
        "\n",
        "article\n",
        "\n",
        "player\n",
        "\n",
        "lines\n",
        "\n",
        "sox\n",
        "\n",
        "00 00 000\n",
        "\n",
        "Concept 6:"
       ]
      },
      {
       "output_type": "stream",
       "stream": "stdout",
       "text": [
        "\n",
        "00\n",
        "\n",
        "00 00\n",
        "\n",
        "team\n",
        "\n",
        "00 00 00\n",
        "\n",
        "00 00 gmt\n",
        "\n",
        "two\n",
        "\n",
        "00 00 cleveland\n",
        "\n",
        "won\n",
        "\n",
        "re\n",
        "\n",
        "get\n",
        "\n",
        "Concept 7:"
       ]
      },
      {
       "output_type": "stream",
       "stream": "stdout",
       "text": [
        "\n",
        "braves\n",
        "\n",
        "cs\n",
        "\n",
        "first\n",
        "\n",
        "10\n",
        "\n",
        "well\n",
        "\n",
        "anyone\n",
        "\n",
        "three\n",
        "\n",
        "game\n",
        "\n",
        "season\n",
        "\n",
        "pitcher\n",
        "\n",
        "Concept 8:"
       ]
      },
      {
       "output_type": "stream",
       "stream": "stdout",
       "text": [
        "\n",
        "game\n",
        "\n",
        "win\n",
        "\n",
        "much\n",
        "\n",
        "good\n",
        "\n",
        "best\n",
        "\n",
        "baseball\n",
        "\n",
        "right\n",
        "\n",
        "first\n",
        "\n",
        "00 00 gmt\n",
        "\n",
        "see\n",
        "\n",
        "Concept 9:"
       ]
      },
      {
       "output_type": "stream",
       "stream": "stdout",
       "text": [
        "\n",
        "games\n",
        "\n",
        "com\n",
        "\n",
        "back\n",
        "\n",
        "much\n",
        "\n",
        "well\n",
        "\n",
        "better\n",
        "\n",
        "time\n",
        "\n",
        "pitching\n",
        "\n",
        "00\n",
        "\n",
        "anyone\n",
        "\n",
        "Concept 10:"
       ]
      },
      {
       "output_type": "stream",
       "stream": "stdout",
       "text": [
        "\n",
        "one\n",
        "\n",
        "nntp posting\n",
        "\n",
        "00 00 chicago\n",
        "\n",
        "00 00 american\n",
        "\n",
        "nntp\n",
        "\n",
        "nntp posting host\n",
        "\n",
        "posting host\n",
        "\n",
        "lines\n",
        "\n",
        "00 00 01\n",
        "\n",
        "could\n",
        "\n",
        "Concept 11:"
       ]
      },
      {
       "output_type": "stream",
       "stream": "stdout",
       "text": [
        "\n",
        "com\n",
        "\n",
        "see\n",
        "\n",
        "subject\n",
        "\n",
        "game\n",
        "\n",
        "well\n",
        "\n",
        "season\n",
        "\n",
        "games\n",
        "\n",
        "didn\n",
        "\n",
        "00 00 00\n",
        "\n",
        "article\n",
        "\n",
        "Concept 12:"
       ]
      },
      {
       "output_type": "stream",
       "stream": "stdout",
       "text": [
        "\n",
        "game\n",
        "\n",
        "subject\n",
        "\n",
        "first\n",
        "\n",
        "think\n",
        "\n",
        "host\n",
        "\n",
        "last\n",
        "\n",
        "games\n",
        "\n",
        "really\n",
        "\n",
        "nntp\n",
        "\n",
        "much\n",
        "\n",
        "Concept 13:"
       ]
      },
      {
       "output_type": "stream",
       "stream": "stdout",
       "text": [
        "\n",
        "think\n",
        "\n",
        "00 00 colorado\n",
        "\n",
        "see\n",
        "\n",
        "00 00 gmt\n",
        "\n",
        "com\n",
        "\n",
        "runs\n",
        "\n",
        "00 00 cleveland\n",
        "\n",
        "00 00 baltimore\n",
        "\n",
        "first\n",
        "\n",
        "10\n",
        "\n",
        "Concept 14:"
       ]
      },
      {
       "output_type": "stream",
       "stream": "stdout",
       "text": [
        "\n",
        "good\n",
        "\n",
        "well\n",
        "\n",
        "host\n",
        "\n",
        "nntp posting\n",
        "\n",
        "back\n",
        "\n",
        "netcom com\n",
        "\n",
        "better\n",
        "\n",
        "00 00\n",
        "\n",
        "ll\n",
        "\n",
        "first\n",
        "\n",
        "Concept 15:"
       ]
      },
      {
       "output_type": "stream",
       "stream": "stdout",
       "text": [
        "\n",
        "get\n",
        "\n",
        "play\n",
        "\n",
        "baseball\n",
        "\n",
        "players\n",
        "\n",
        "00 00 colorado\n",
        "\n",
        "article\n",
        "\n",
        "university\n",
        "\n",
        "know\n",
        "\n",
        "two\n",
        "\n",
        "world\n",
        "\n",
        "Concept 16:"
       ]
      },
      {
       "output_type": "stream",
       "stream": "stdout",
       "text": [
        "\n",
        "university\n",
        "\n",
        "re\n",
        "\n",
        "article\n",
        "\n",
        "edu\n",
        "\n",
        "year\n",
        "\n",
        "com\n",
        "\n",
        "organization\n",
        "\n",
        "much\n",
        "\n",
        "00 00 american\n",
        "\n",
        "back\n",
        "\n",
        "Concept 17:"
       ]
      },
      {
       "output_type": "stream",
       "stream": "stdout",
       "text": [
        "\n",
        "time\n",
        "\n",
        "last\n",
        "\n",
        "com\n",
        "\n",
        "00 00 01\n",
        "\n",
        "say\n",
        "\n",
        "writes article\n",
        "\n",
        "like\n",
        "\n",
        "00 00 gmt\n",
        "\n",
        "00 00 detroit\n",
        "\n",
        "know\n",
        "\n",
        "Concept 18:"
       ]
      },
      {
       "output_type": "stream",
       "stream": "stdout",
       "text": [
        "\n",
        "com\n",
        "\n",
        "subject re\n",
        "\n",
        "first\n",
        "\n",
        "00 00 00\n",
        "\n",
        "subject\n",
        "\n",
        "cs\n",
        "\n",
        "host\n",
        "\n",
        "league\n",
        "\n",
        "even\n",
        "\n",
        "last\n",
        "\n",
        "Concept 19:"
       ]
      },
      {
       "output_type": "stream",
       "stream": "stdout",
       "text": [
        "\n",
        "would\n",
        "\n",
        "com\n",
        "\n",
        "year\n",
        "\n",
        "00 00 detroit\n",
        "\n",
        "baseball\n",
        "\n",
        "organization\n",
        "\n",
        "00 00 gmt\n",
        "\n",
        "article\n",
        "\n",
        "good\n",
        "\n",
        "time\n",
        "\n",
        "Concept 20:"
       ]
      },
      {
       "output_type": "stream",
       "stream": "stdout",
       "text": [
        "\n",
        "cs\n",
        "\n",
        "think\n",
        "\n",
        "organization\n",
        "\n",
        "edu\n",
        "\n",
        "00 00 chicago\n",
        "\n",
        "one\n",
        "\n",
        "host\n",
        "\n",
        "get\n",
        "\n",
        "00 00 detroit\n",
        "\n",
        "time\n",
        "\n",
        "Concept 21:"
       ]
      },
      {
       "output_type": "stream",
       "stream": "stdout",
       "text": [
        "\n",
        "writes\n",
        "\n",
        "edu\n",
        "\n",
        "baseball\n",
        "\n",
        "00 00 american\n",
        "\n",
        "00 00 baltimore\n",
        "\n",
        "anyone\n",
        "\n",
        "little\n",
        "\n",
        "subject\n",
        "\n",
        "morris\n",
        "\n",
        "season\n",
        "\n",
        "Concept 22:"
       ]
      },
      {
       "output_type": "stream",
       "stream": "stdout",
       "text": [
        "\n",
        "re\n",
        "\n",
        "cs\n",
        "\n",
        "would\n",
        "\n",
        "think\n",
        "\n",
        "00 00 american\n",
        "\n",
        "com\n",
        "\n",
        "posting\n",
        "\n",
        "ca\n",
        "\n",
        "let\n",
        "\n",
        "last\n",
        "\n",
        "Concept 23:"
       ]
      },
      {
       "output_type": "stream",
       "stream": "stdout",
       "text": [
        "\n",
        "00 00 gmt\n",
        "\n",
        "re\n",
        "\n",
        "baseball\n",
        "\n",
        "writes\n",
        "\n",
        "last\n",
        "\n",
        "get\n",
        "\n",
        "subject\n",
        "\n",
        "subject re\n",
        "\n",
        "could\n",
        "\n",
        "host\n",
        "\n",
        "Concept 24:"
       ]
      },
      {
       "output_type": "stream",
       "stream": "stdout",
       "text": [
        "\n",
        "writes\n",
        "\n",
        "last\n",
        "\n",
        "00 00 00\n",
        "\n",
        "com\n",
        "\n",
        "win\n",
        "\n",
        "00 00 colorado\n",
        "\n",
        "better\n",
        "\n",
        "like\n",
        "\n",
        "posting\n",
        "\n",
        "re\n",
        "\n",
        "Concept 25:"
       ]
      },
      {
       "output_type": "stream",
       "stream": "stdout",
       "text": [
        "\n",
        "subject re\n",
        "\n",
        "players\n",
        "\n",
        "like\n",
        "\n",
        "nntp posting\n",
        "\n",
        "nntp posting host\n",
        "\n",
        "posting host\n",
        "\n",
        "nntp\n",
        "\n",
        "00 00 gmt\n",
        "\n",
        "better\n",
        "\n",
        "article\n",
        "\n",
        "Concept 26:"
       ]
      },
      {
       "output_type": "stream",
       "stream": "stdout",
       "text": [
        "\n",
        "00 00 chicago\n",
        "\n",
        "00 00 00\n",
        "\n",
        "baseball\n",
        "\n",
        "posting\n",
        "\n",
        "00 00 detroit\n",
        "\n",
        "team\n",
        "\n",
        "00 00 colorado\n",
        "\n",
        "games\n",
        "\n",
        "article\n",
        "\n",
        "players\n",
        "\n"
       ]
      }
     ],
     "prompt_number": 15
    },
    {
     "cell_type": "code",
     "collapsed": false,
     "input": [
      "from sklearn.datasets import fetch_20newsgroups\n",
      "categories = ['rec.sport.baseball']\n",
      "dataset = fetch_20newsgroups(subset='all',shuffle=True, random_state=42, categories=categories)\n",
      "corpus = dataset.data"
     ],
     "language": "python",
     "metadata": {},
     "outputs": [],
     "prompt_number": 16
    },
    {
     "cell_type": "code",
     "collapsed": false,
     "input": [
      "from sklearn.datasets import fetch_20newsgroups"
     ],
     "language": "python",
     "metadata": {},
     "outputs": [],
     "prompt_number": 17
    },
    {
     "cell_type": "code",
     "collapsed": false,
     "input": [
      "from sklearn.datasets import fetch_20newsgroups\n",
      "categories = ['rec.sport.baseball']\n",
      "dataset = fetch_20newsgroups(subset='all',shuffle=True, random_state=42, categories=categories)"
     ],
     "language": "python",
     "metadata": {},
     "outputs": [],
     "prompt_number": 18
    },
    {
     "cell_type": "code",
     "collapsed": false,
     "input": [
      "docA = \"the cat sat on my face\"\n",
      "docB = \"the dog sat on my bed\""
     ],
     "language": "python",
     "metadata": {},
     "outputs": [],
     "prompt_number": 19
    },
    {
     "cell_type": "code",
     "collapsed": false,
     "input": [
      "bowA = docA.split(\" \")\n",
      "bowB = docB.split(\" \")"
     ],
     "language": "python",
     "metadata": {},
     "outputs": [],
     "prompt_number": 20
    },
    {
     "cell_type": "code",
     "collapsed": false,
     "input": [
      "bowB"
     ],
     "language": "python",
     "metadata": {},
     "outputs": [
      {
       "metadata": {},
       "output_type": "pyout",
       "prompt_number": 21,
       "text": [
        "['the', 'dog', 'sat', 'on', 'my', 'bed']"
       ]
      }
     ],
     "prompt_number": 21
    },
    {
     "cell_type": "code",
     "collapsed": false,
     "input": [
      "bowA"
     ],
     "language": "python",
     "metadata": {},
     "outputs": [
      {
       "metadata": {},
       "output_type": "pyout",
       "prompt_number": 22,
       "text": [
        "['the', 'cat', 'sat', 'on', 'my', 'face']"
       ]
      }
     ],
     "prompt_number": 22
    },
    {
     "cell_type": "code",
     "collapsed": false,
     "input": [
      "bowAB"
     ],
     "language": "python",
     "metadata": {},
     "outputs": [
      {
       "ename": "NameError",
       "evalue": "name 'bowAB' is not defined",
       "output_type": "pyerr",
       "traceback": [
        "\u001b[1;31m---------------------------------------------------------------------------\u001b[0m\n\u001b[1;31mNameError\u001b[0m                                 Traceback (most recent call last)",
        "\u001b[1;32m<ipython-input-23-87d6d79f49e1>\u001b[0m in \u001b[0;36m<module>\u001b[1;34m()\u001b[0m\n\u001b[1;32m----> 1\u001b[1;33m \u001b[0mbowAB\u001b[0m\u001b[1;33m\u001b[0m\u001b[0m\n\u001b[0m",
        "\u001b[1;31mNameError\u001b[0m: name 'bowAB' is not defined"
       ]
      }
     ],
     "prompt_number": 23
    },
    {
     "cell_type": "code",
     "collapsed": false,
     "input": [
      "wordset = set (bowA).union(set(bowB))"
     ],
     "language": "python",
     "metadata": {},
     "outputs": [],
     "prompt_number": 24
    },
    {
     "cell_type": "code",
     "collapsed": false,
     "input": [
      "wordset"
     ],
     "language": "python",
     "metadata": {},
     "outputs": [
      {
       "metadata": {},
       "output_type": "pyout",
       "prompt_number": 25,
       "text": [
        "{'bed', 'cat', 'dog', 'face', 'my', 'on', 'sat', 'the'}"
       ]
      }
     ],
     "prompt_number": 25
    },
    {
     "cell_type": "code",
     "collapsed": false,
     "input": [
      "wordDictA = dict.fromkeys(wordset, 0)\n",
      "wordDictB = dict.fromkeys(wordset, 0)"
     ],
     "language": "python",
     "metadata": {},
     "outputs": [],
     "prompt_number": 26
    },
    {
     "cell_type": "code",
     "collapsed": false,
     "input": [
      "wordDictA"
     ],
     "language": "python",
     "metadata": {},
     "outputs": [
      {
       "metadata": {},
       "output_type": "pyout",
       "prompt_number": 27,
       "text": [
        "{'bed': 0, 'cat': 0, 'dog': 0, 'face': 0, 'my': 0, 'on': 0, 'sat': 0, 'the': 0}"
       ]
      }
     ],
     "prompt_number": 27
    },
    {
     "cell_type": "code",
     "collapsed": false,
     "input": [
      "wordDictB"
     ],
     "language": "python",
     "metadata": {},
     "outputs": [
      {
       "metadata": {},
       "output_type": "pyout",
       "prompt_number": 28,
       "text": [
        "{'bed': 0, 'cat': 0, 'dog': 0, 'face': 0, 'my': 0, 'on': 0, 'sat': 0, 'the': 0}"
       ]
      }
     ],
     "prompt_number": 28
    },
    {
     "cell_type": "code",
     "collapsed": false,
     "input": [
      "for word in bowA:\n",
      "    wordDictA[word]+=1\n",
      "for word in bowB:\n",
      "    wordDictB[word]+=1"
     ],
     "language": "python",
     "metadata": {},
     "outputs": [],
     "prompt_number": 32
    },
    {
     "cell_type": "code",
     "collapsed": false,
     "input": [
      "wordDictA"
     ],
     "language": "python",
     "metadata": {},
     "outputs": [
      {
       "metadata": {},
       "output_type": "pyout",
       "prompt_number": 33,
       "text": [
        "{'bed': 0, 'cat': 1, 'dog': 0, 'face': 1, 'my': 1, 'on': 1, 'sat': 1, 'the': 1}"
       ]
      }
     ],
     "prompt_number": 33
    },
    {
     "cell_type": "code",
     "collapsed": false,
     "input": [
      "wprdDictB"
     ],
     "language": "python",
     "metadata": {},
     "outputs": [
      {
       "ename": "NameError",
       "evalue": "name 'wprdDictB' is not defined",
       "output_type": "pyerr",
       "traceback": [
        "\u001b[1;31m---------------------------------------------------------------------------\u001b[0m\n\u001b[1;31mNameError\u001b[0m                                 Traceback (most recent call last)",
        "\u001b[1;32m<ipython-input-34-9a099bdb2e18>\u001b[0m in \u001b[0;36m<module>\u001b[1;34m()\u001b[0m\n\u001b[1;32m----> 1\u001b[1;33m \u001b[0mwprdDictB\u001b[0m\u001b[1;33m\u001b[0m\u001b[0m\n\u001b[0m",
        "\u001b[1;31mNameError\u001b[0m: name 'wprdDictB' is not defined"
       ]
      }
     ],
     "prompt_number": 34
    },
    {
     "cell_type": "code",
     "collapsed": false,
     "input": [
      "wordDictB"
     ],
     "language": "python",
     "metadata": {},
     "outputs": [
      {
       "metadata": {},
       "output_type": "pyout",
       "prompt_number": 35,
       "text": [
        "{'bed': 1, 'cat': 0, 'dog': 1, 'face': 0, 'my': 1, 'on': 1, 'sat': 1, 'the': 1}"
       ]
      }
     ],
     "prompt_number": 35
    },
    {
     "cell_type": "code",
     "collapsed": false,
     "input": [
      "import pandas as pd\n",
      "pd.DataFrame([wordDictA, wordDictB])"
     ],
     "language": "python",
     "metadata": {},
     "outputs": [
      {
       "html": [
        "<div style=\"max-height:1000px;max-width:1500px;overflow:auto;\">\n",
        "<table border=\"1\" class=\"dataframe\">\n",
        "  <thead>\n",
        "    <tr style=\"text-align: right;\">\n",
        "      <th></th>\n",
        "      <th>bed</th>\n",
        "      <th>cat</th>\n",
        "      <th>dog</th>\n",
        "      <th>face</th>\n",
        "      <th>my</th>\n",
        "      <th>on</th>\n",
        "      <th>sat</th>\n",
        "      <th>the</th>\n",
        "    </tr>\n",
        "  </thead>\n",
        "  <tbody>\n",
        "    <tr>\n",
        "      <th>0</th>\n",
        "      <td> 0</td>\n",
        "      <td> 1</td>\n",
        "      <td> 0</td>\n",
        "      <td> 1</td>\n",
        "      <td> 1</td>\n",
        "      <td> 1</td>\n",
        "      <td> 1</td>\n",
        "      <td> 1</td>\n",
        "    </tr>\n",
        "    <tr>\n",
        "      <th>1</th>\n",
        "      <td> 1</td>\n",
        "      <td> 0</td>\n",
        "      <td> 1</td>\n",
        "      <td> 0</td>\n",
        "      <td> 1</td>\n",
        "      <td> 1</td>\n",
        "      <td> 1</td>\n",
        "      <td> 1</td>\n",
        "    </tr>\n",
        "  </tbody>\n",
        "</table>\n",
        "</div>"
       ],
       "metadata": {},
       "output_type": "pyout",
       "prompt_number": 36,
       "text": [
        "   bed  cat  dog  face  my  on  sat  the\n",
        "0    0    1    0     1   1   1    1    1\n",
        "1    1    0    1     0   1   1    1    1"
       ]
      }
     ],
     "prompt_number": 36
    },
    {
     "cell_type": "code",
     "collapsed": false,
     "input": [
      "def computeTF(wordDict, bow):\n",
      "    tfDict = {}\n",
      "    bowCount = len(bow)\n",
      "    for word, count in wordDict.iteritems():\n",
      "        tfDict[word] = count / float(bowCount)\n",
      "        return tfDict"
     ],
     "language": "python",
     "metadata": {},
     "outputs": [],
     "prompt_number": 37
    },
    {
     "cell_type": "code",
     "collapsed": false,
     "input": [
      "tfBowA = computeTF(wordDictA, bowA)\n",
      "tfBowB = computeTF(wordDictB, bowB)"
     ],
     "language": "python",
     "metadata": {},
     "outputs": [],
     "prompt_number": 38
    },
    {
     "cell_type": "code",
     "collapsed": false,
     "input": [
      "def computeIDF(docList):\n",
      "    import math\n",
      "    idfDict = {}\n",
      "    N = len(docList)\n",
      "    idfDict = dict.fromkeys(docList[0].keys(),0)\n",
      "    for doc in docList:\n",
      "        for word, val in doc.iteritems():\n",
      "            if val > 0:\n",
      "                idfDict[word] +=1\n",
      "                for word, val in idfDict.iteritems():\n",
      "                    idfDict[word] = math.log(N/ float(val))\n",
      "                    return idfDict"
     ],
     "language": "python",
     "metadata": {},
     "outputs": [],
     "prompt_number": 49
    },
    {
     "cell_type": "code",
     "collapsed": false,
     "input": [
      "idfs = computeIDF([wordDictA, wordDictB])"
     ],
     "language": "python",
     "metadata": {},
     "outputs": [],
     "prompt_number": 50
    },
    {
     "cell_type": "code",
     "collapsed": false,
     "input": [
      "def computeTFIDF(tfBow, idfs):\n",
      "    tfidf = {}\n",
      "    for word, val in tfBow.iteritems():\n",
      "        tfidf[word] = val * idfs[word]\n",
      "        return tfidf"
     ],
     "language": "python",
     "metadata": {},
     "outputs": [],
     "prompt_number": 51
    },
    {
     "cell_type": "code",
     "collapsed": false,
     "input": [
      "tfidfBowA = computeTFIDF(tfBowA, idfs)\n",
      "tfidfBowB = computeTFIDF(tfBowB, idfs)"
     ],
     "language": "python",
     "metadata": {},
     "outputs": [],
     "prompt_number": 52
    },
    {
     "cell_type": "code",
     "collapsed": false,
     "input": [
      "import pandas as pd\n",
      "pd.DataFrame([tfidfBowA, tfidfBowB])"
     ],
     "language": "python",
     "metadata": {},
     "outputs": [
      {
       "html": [
        "<div style=\"max-height:1000px;max-width:1500px;overflow:auto;\">\n",
        "<table border=\"1\" class=\"dataframe\">\n",
        "  <thead>\n",
        "    <tr style=\"text-align: right;\">\n",
        "      <th></th>\n",
        "      <th>on</th>\n",
        "    </tr>\n",
        "  </thead>\n",
        "  <tbody>\n",
        "    <tr>\n",
        "      <th>0</th>\n",
        "      <td> 0.115525</td>\n",
        "    </tr>\n",
        "    <tr>\n",
        "      <th>1</th>\n",
        "      <td> 0.115525</td>\n",
        "    </tr>\n",
        "  </tbody>\n",
        "</table>\n",
        "</div>"
       ],
       "metadata": {},
       "output_type": "pyout",
       "prompt_number": 53,
       "text": [
        "         on\n",
        "0  0.115525\n",
        "1  0.115525"
       ]
      }
     ],
     "prompt_number": 53
    },
    {
     "cell_type": "code",
     "collapsed": false,
     "input": [],
     "language": "python",
     "metadata": {},
     "outputs": []
    }
   ],
   "metadata": {}
  }
 ]
}